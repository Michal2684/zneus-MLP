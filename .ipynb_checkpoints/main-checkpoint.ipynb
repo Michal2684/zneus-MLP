{
 "cells": [
  {
   "cell_type": "markdown",
   "id": "bc485a24-10be-4a83-a978-2c4f0e92876c",
   "metadata": {
    "ExecuteTime": {
     "end_time": "2025-10-23T10:15:53.941825Z",
     "start_time": "2025-10-23T10:15:53.938790Z"
    },
    "collapsed": true,
    "jupyter": {
     "outputs_hidden": true
    }
   },
   "source": [
    "### Základy neurónových sietí STU FIIT\n",
    "## Credit Risk Assessment\n",
    "#### Michal Fajer"
   ]
  },
  {
   "cell_type": "code",
   "execution_count": null,
   "id": "68a7f853-9e23-4efa-b13e-420618106776",
   "metadata": {},
   "outputs": [],
   "source": [
    "import pandas as pd\n",
    "import numpy as np\n"
   ]
  },
  {
   "cell_type": "code",
   "execution_count": null,
   "id": "028678bb-ef47-4e5a-a1c9-07a7e7732905",
   "metadata": {},
   "outputs": [],
   "source": [
    "df = pd.read_csv(\"data/dataset.csv\")"
   ]
  }
 ],
 "metadata": {
  "kernelspec": {
   "display_name": "Python 3 (ipykernel)",
   "language": "python",
   "name": "python3"
  },
  "language_info": {
   "codemirror_mode": {
    "name": "ipython",
    "version": 3
   },
   "file_extension": ".py",
   "mimetype": "text/x-python",
   "name": "python",
   "nbconvert_exporter": "python",
   "pygments_lexer": "ipython3",
   "version": "3.12.11"
  }
 },
 "nbformat": 4,
 "nbformat_minor": 5
}
